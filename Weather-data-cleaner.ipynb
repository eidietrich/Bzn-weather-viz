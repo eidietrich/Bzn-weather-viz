{
 "cells": [
  {
   "cell_type": "code",
   "execution_count": 1,
   "metadata": {
    "collapsed": true
   },
   "outputs": [],
   "source": [
    "import pandas as pd\n",
    "import numpy as np"
   ]
  },
  {
   "cell_type": "code",
   "execution_count": 2,
   "metadata": {
    "collapsed": false
   },
   "outputs": [
    {
     "name": "stderr",
     "output_type": "stream",
     "text": [
      "/Users/ericdietrich/anaconda/lib/python2.7/site-packages/IPython/core/interactiveshell.py:2902: DtypeWarning: Columns (2,3,4,39,49) have mixed types. Specify dtype option on import or set low_memory=False.\n",
      "  interactivity=interactivity, compiler=compiler, result=result)\n"
     ]
    }
   ],
   "source": [
    "# Import historical weather data\n",
    "\n",
    "dfFull = pd.read_csv('data-raw/BZN-weather-data_4.1895-6.2015.csv',\n",
    "                        na_values=['-9999','9999'],\n",
    "                        index_col='DATE',\n",
    "                        parse_dates=True)"
   ]
  },
  {
   "cell_type": "code",
   "execution_count": 3,
   "metadata": {
    "collapsed": false
   },
   "outputs": [
    {
     "data": {
      "text/html": [
       "<div>\n",
       "<table border=\"1\" class=\"dataframe\">\n",
       "  <thead>\n",
       "    <tr style=\"text-align: right;\">\n",
       "      <th></th>\n",
       "      <th>PRCP</th>\n",
       "      <th>TMAX</th>\n",
       "      <th>TMIN</th>\n",
       "      <th>day</th>\n",
       "      <th>month</th>\n",
       "      <th>RECHIGH</th>\n",
       "      <th>AVGHIGH</th>\n",
       "      <th>RECLOW</th>\n",
       "      <th>AVGLOW</th>\n",
       "    </tr>\n",
       "    <tr>\n",
       "      <th>DATE</th>\n",
       "      <th></th>\n",
       "      <th></th>\n",
       "      <th></th>\n",
       "      <th></th>\n",
       "      <th></th>\n",
       "      <th></th>\n",
       "      <th></th>\n",
       "      <th></th>\n",
       "      <th></th>\n",
       "    </tr>\n",
       "  </thead>\n",
       "  <tbody>\n",
       "    <tr>\n",
       "      <th>1892-04-08 00:00:00</th>\n",
       "      <td>0</td>\n",
       "      <td>78</td>\n",
       "      <td>-150</td>\n",
       "      <td>8</td>\n",
       "      <td>4</td>\n",
       "      <td>239</td>\n",
       "      <td>109.105691</td>\n",
       "      <td>-172</td>\n",
       "      <td>-22.284553</td>\n",
       "    </tr>\n",
       "    <tr>\n",
       "      <th>1892-04-09 00:00:00</th>\n",
       "      <td>0</td>\n",
       "      <td>128</td>\n",
       "      <td>6</td>\n",
       "      <td>9</td>\n",
       "      <td>4</td>\n",
       "      <td>250</td>\n",
       "      <td>111.983740</td>\n",
       "      <td>-128</td>\n",
       "      <td>-17.008130</td>\n",
       "    </tr>\n",
       "    <tr>\n",
       "      <th>1892-04-10 00:00:00</th>\n",
       "      <td>0</td>\n",
       "      <td>100</td>\n",
       "      <td>6</td>\n",
       "      <td>10</td>\n",
       "      <td>4</td>\n",
       "      <td>244</td>\n",
       "      <td>107.577236</td>\n",
       "      <td>-150</td>\n",
       "      <td>-15.528455</td>\n",
       "    </tr>\n",
       "    <tr>\n",
       "      <th>1892-04-11 00:00:00</th>\n",
       "      <td>0</td>\n",
       "      <td>89</td>\n",
       "      <td>-6</td>\n",
       "      <td>11</td>\n",
       "      <td>4</td>\n",
       "      <td>239</td>\n",
       "      <td>113.447154</td>\n",
       "      <td>-117</td>\n",
       "      <td>-13.252033</td>\n",
       "    </tr>\n",
       "    <tr>\n",
       "      <th>1892-04-12 00:00:00</th>\n",
       "      <td>0</td>\n",
       "      <td>94</td>\n",
       "      <td>-28</td>\n",
       "      <td>12</td>\n",
       "      <td>4</td>\n",
       "      <td>244</td>\n",
       "      <td>121.804878</td>\n",
       "      <td>-156</td>\n",
       "      <td>-15.674797</td>\n",
       "    </tr>\n",
       "  </tbody>\n",
       "</table>\n",
       "</div>"
      ],
      "text/plain": [
       "                     PRCP  TMAX  TMIN  day  month  RECHIGH     AVGHIGH  \\\n",
       "DATE                                                                     \n",
       "1892-04-08 00:00:00     0    78  -150    8      4      239  109.105691   \n",
       "1892-04-09 00:00:00     0   128     6    9      4      250  111.983740   \n",
       "1892-04-10 00:00:00     0   100     6   10      4      244  107.577236   \n",
       "1892-04-11 00:00:00     0    89    -6   11      4      239  113.447154   \n",
       "1892-04-12 00:00:00     0    94   -28   12      4      244  121.804878   \n",
       "\n",
       "                     RECLOW     AVGLOW  \n",
       "DATE                                    \n",
       "1892-04-08 00:00:00    -172 -22.284553  \n",
       "1892-04-09 00:00:00    -128 -17.008130  \n",
       "1892-04-10 00:00:00    -150 -15.528455  \n",
       "1892-04-11 00:00:00    -117 -13.252033  \n",
       "1892-04-12 00:00:00    -156 -15.674797  "
      ]
     },
     "execution_count": 3,
     "metadata": {},
     "output_type": "execute_result"
    }
   ],
   "source": [
    "# Select columns of interest from full data set\n",
    "df = dfFull.loc[:,['PRCP','TMAX','TMIN']]\n",
    "df['day'] = df.index.day\n",
    "df['month'] = df.index.month\n",
    "\n",
    "# Calculate record high and add to output_df\n",
    "record_max = df[['TMAX','month','day']].groupby(['month','day']).aggregate([max, np.mean])\n",
    "record_max.columns = ['RECHIGH', 'AVGHIGH']\n",
    "df = pd.merge(df, record_max, left_on=['month','day'], right_index=True, how='left').sort_index()\n",
    "\n",
    "# Calculate record low and add to output_df\n",
    "record_min = df[['TMIN','month','day']].groupby(['month','day']).aggregate([min, np.mean])\n",
    "record_min.columns = ['RECLOW', 'AVGLOW']\n",
    "df = pd.merge(df, record_min, left_on=['month','day'], right_index=True, how='left').sort_index()\n",
    "\n",
    "df.head()"
   ]
  },
  {
   "cell_type": "code",
   "execution_count": 4,
   "metadata": {
    "collapsed": false
   },
   "outputs": [],
   "source": [
    "# Read in snowpack data\n",
    "\n",
    "# Snow water equivalent data since ~1994, snow depth data since 6-20-2002\n",
    "# Snow water equivalent defined here:\n",
    "# http://www.nrcs.usda.gov/wps/portal/nrcs/detail/or/snow/?cid=nrcs142p2_046155\n",
    "\n",
    "dfSnow = pd.read_csv('data-raw/bracket-creek_11-22-15.csv', index_col='Date',\n",
    "                        parse_dates=True, skiprows=7)\n",
    "dfSnow.rename(columns={'Snow Depth (in)':'SNWDEP'}, inplace=True)\n",
    "\n",
    "# Select only SNWDEP column, remove nulls\n",
    "dfSnow = pd.DataFrame(dfSnow['SNWDEP'])\n",
    "dfSnow = dfSnow[dfSnow['SNWDEP'].notnull()]"
   ]
  },
  {
   "cell_type": "code",
   "execution_count": 5,
   "metadata": {
    "collapsed": false
   },
   "outputs": [],
   "source": [
    "# Strip df to date range of interest\n",
    "# Data currently runs '1892-04-08' to '2015-06-30'\n",
    "\n",
    "# Export dates\n",
    "start_date = pd.to_datetime('2013-08-01')\n",
    "end_date = pd.to_datetime('2014-07-31')\n",
    "\n",
    "dfOut = df.loc[start_date:end_date]"
   ]
  },
  {
   "cell_type": "code",
   "execution_count": 6,
   "metadata": {
    "collapsed": false
   },
   "outputs": [],
   "source": [
    "# Add SNWDEP column to dfOut\n",
    "dfOut = pd.merge(dfOut, dfSnow, right_index=True, left_index=True, how='left').sort_index()"
   ]
  },
  {
   "cell_type": "code",
   "execution_count": 7,
   "metadata": {
    "collapsed": false
   },
   "outputs": [
    {
     "data": {
      "text/html": [
       "<div>\n",
       "<table border=\"1\" class=\"dataframe\">\n",
       "  <thead>\n",
       "    <tr style=\"text-align: right;\">\n",
       "      <th></th>\n",
       "      <th>PRCP</th>\n",
       "      <th>TMAX</th>\n",
       "      <th>TMIN</th>\n",
       "      <th>day</th>\n",
       "      <th>month</th>\n",
       "      <th>RECHIGH</th>\n",
       "      <th>AVGHIGH</th>\n",
       "      <th>RECLOW</th>\n",
       "      <th>AVGLOW</th>\n",
       "      <th>SNWDEP</th>\n",
       "    </tr>\n",
       "    <tr>\n",
       "      <th>DATE</th>\n",
       "      <th></th>\n",
       "      <th></th>\n",
       "      <th></th>\n",
       "      <th></th>\n",
       "      <th></th>\n",
       "      <th></th>\n",
       "      <th></th>\n",
       "      <th></th>\n",
       "      <th></th>\n",
       "      <th></th>\n",
       "    </tr>\n",
       "  </thead>\n",
       "  <tbody>\n",
       "    <tr>\n",
       "      <th>2013-08-01</th>\n",
       "      <td>3</td>\n",
       "      <td>283</td>\n",
       "      <td>133</td>\n",
       "      <td>1</td>\n",
       "      <td>8</td>\n",
       "      <td>361</td>\n",
       "      <td>280.058824</td>\n",
       "      <td>39</td>\n",
       "      <td>111.924370</td>\n",
       "      <td>0</td>\n",
       "    </tr>\n",
       "    <tr>\n",
       "      <th>2013-08-02</th>\n",
       "      <td>43</td>\n",
       "      <td>250</td>\n",
       "      <td>106</td>\n",
       "      <td>2</td>\n",
       "      <td>8</td>\n",
       "      <td>344</td>\n",
       "      <td>275.857143</td>\n",
       "      <td>28</td>\n",
       "      <td>106.949580</td>\n",
       "      <td>0</td>\n",
       "    </tr>\n",
       "    <tr>\n",
       "      <th>2013-08-03</th>\n",
       "      <td>0</td>\n",
       "      <td>239</td>\n",
       "      <td>111</td>\n",
       "      <td>3</td>\n",
       "      <td>8</td>\n",
       "      <td>361</td>\n",
       "      <td>277.739496</td>\n",
       "      <td>33</td>\n",
       "      <td>109.084034</td>\n",
       "      <td>0</td>\n",
       "    </tr>\n",
       "    <tr>\n",
       "      <th>2013-08-04</th>\n",
       "      <td>0</td>\n",
       "      <td>261</td>\n",
       "      <td>111</td>\n",
       "      <td>4</td>\n",
       "      <td>8</td>\n",
       "      <td>367</td>\n",
       "      <td>274.873950</td>\n",
       "      <td>50</td>\n",
       "      <td>103.773109</td>\n",
       "      <td>0</td>\n",
       "    </tr>\n",
       "    <tr>\n",
       "      <th>2013-08-05</th>\n",
       "      <td>0</td>\n",
       "      <td>278</td>\n",
       "      <td>122</td>\n",
       "      <td>5</td>\n",
       "      <td>8</td>\n",
       "      <td>372</td>\n",
       "      <td>277.016807</td>\n",
       "      <td>39</td>\n",
       "      <td>105.453782</td>\n",
       "      <td>0</td>\n",
       "    </tr>\n",
       "  </tbody>\n",
       "</table>\n",
       "</div>"
      ],
      "text/plain": [
       "            PRCP  TMAX  TMIN  day  month  RECHIGH     AVGHIGH  RECLOW  \\\n",
       "DATE                                                                    \n",
       "2013-08-01     3   283   133    1      8      361  280.058824      39   \n",
       "2013-08-02    43   250   106    2      8      344  275.857143      28   \n",
       "2013-08-03     0   239   111    3      8      361  277.739496      33   \n",
       "2013-08-04     0   261   111    4      8      367  274.873950      50   \n",
       "2013-08-05     0   278   122    5      8      372  277.016807      39   \n",
       "\n",
       "                AVGLOW  SNWDEP  \n",
       "DATE                            \n",
       "2013-08-01  111.924370       0  \n",
       "2013-08-02  106.949580       0  \n",
       "2013-08-03  109.084034       0  \n",
       "2013-08-04  103.773109       0  \n",
       "2013-08-05  105.453782       0  "
      ]
     },
     "execution_count": 7,
     "metadata": {},
     "output_type": "execute_result"
    }
   ],
   "source": [
    "dfOut.head()"
   ]
  },
  {
   "cell_type": "code",
   "execution_count": 8,
   "metadata": {
    "collapsed": false
   },
   "outputs": [
    {
     "name": "stdout",
     "output_type": "stream",
     "text": [
      "Output file: BZN-weather_2013-08-01_2014-07-31.csv\n"
     ]
    }
   ],
   "source": [
    "filename = \"BZN-weather_\" + str(start_date.date()) + \"_\" + str(end_date.date()) + \".csv\"\n",
    "dfOut.to_csv('data-processed/' + filename)\n",
    "print 'Output file: ' + filename"
   ]
  },
  {
   "cell_type": "code",
   "execution_count": null,
   "metadata": {
    "collapsed": true
   },
   "outputs": [],
   "source": []
  }
 ],
 "metadata": {
  "kernelspec": {
   "display_name": "Python 2",
   "language": "python",
   "name": "python2"
  },
  "language_info": {
   "codemirror_mode": {
    "name": "ipython",
    "version": 2
   },
   "file_extension": ".py",
   "mimetype": "text/x-python",
   "name": "python",
   "nbconvert_exporter": "python",
   "pygments_lexer": "ipython2",
   "version": "2.7.10"
  }
 },
 "nbformat": 4,
 "nbformat_minor": 0
}
