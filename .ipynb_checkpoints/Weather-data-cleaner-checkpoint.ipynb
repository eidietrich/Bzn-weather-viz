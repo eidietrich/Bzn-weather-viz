{
 "cells": [
  {
   "cell_type": "code",
   "execution_count": 72,
   "metadata": {
    "collapsed": true
   },
   "outputs": [],
   "source": [
    "import pandas as pd\n",
    "import numpy as np"
   ]
  },
  {
   "cell_type": "code",
   "execution_count": 73,
   "metadata": {
    "collapsed": true
   },
   "outputs": [],
   "source": [
    "# Export dates\n",
    "# Data currently runs '1892-04-08' to '2015-06-30'\n",
    "\n",
    "start_date = pd.to_datetime('2015-01-01')\n",
    "end_date = pd.to_datetime('2015-06-30')"
   ]
  },
  {
   "cell_type": "code",
   "execution_count": 75,
   "metadata": {
    "collapsed": false
   },
   "outputs": [],
   "source": [
    "# Import historical weather data\n",
    "\n",
    "df = pd.read_csv('BZN-weather-data_4.1895-6.2015.csv',\n",
    "                        na_values=['-9999','9999'],\n",
    "                        index_col='DATE',\n",
    "                        parse_dates=True)"
   ]
  },
  {
   "cell_type": "code",
   "execution_count": 76,
   "metadata": {
    "collapsed": false
   },
   "outputs": [
    {
     "data": {
      "text/html": [
       "<div style=\"max-height:1000px;max-width:1500px;overflow:auto;\">\n",
       "<table border=\"1\" class=\"dataframe\">\n",
       "  <thead>\n",
       "    <tr style=\"text-align: right;\">\n",
       "      <th></th>\n",
       "      <th>PRCP</th>\n",
       "      <th>TMAX</th>\n",
       "      <th>TMIN</th>\n",
       "      <th>day</th>\n",
       "      <th>month</th>\n",
       "      <th>RECHIGH</th>\n",
       "      <th>AVGHIGH</th>\n",
       "      <th>RECLOW</th>\n",
       "      <th>AVGLOW</th>\n",
       "    </tr>\n",
       "    <tr>\n",
       "      <th>DATE</th>\n",
       "      <th></th>\n",
       "      <th></th>\n",
       "      <th></th>\n",
       "      <th></th>\n",
       "      <th></th>\n",
       "      <th></th>\n",
       "      <th></th>\n",
       "      <th></th>\n",
       "      <th></th>\n",
       "    </tr>\n",
       "  </thead>\n",
       "  <tbody>\n",
       "    <tr>\n",
       "      <th>1892-04-08</th>\n",
       "      <td> 0</td>\n",
       "      <td>  78</td>\n",
       "      <td>-150</td>\n",
       "      <td>  8</td>\n",
       "      <td> 4</td>\n",
       "      <td> 239</td>\n",
       "      <td> 109.105691</td>\n",
       "      <td>-172</td>\n",
       "      <td>-22.284553</td>\n",
       "    </tr>\n",
       "    <tr>\n",
       "      <th>1892-04-09</th>\n",
       "      <td> 0</td>\n",
       "      <td> 128</td>\n",
       "      <td>   6</td>\n",
       "      <td>  9</td>\n",
       "      <td> 4</td>\n",
       "      <td> 250</td>\n",
       "      <td> 111.983740</td>\n",
       "      <td>-128</td>\n",
       "      <td>-17.008130</td>\n",
       "    </tr>\n",
       "    <tr>\n",
       "      <th>1892-04-10</th>\n",
       "      <td> 0</td>\n",
       "      <td> 100</td>\n",
       "      <td>   6</td>\n",
       "      <td> 10</td>\n",
       "      <td> 4</td>\n",
       "      <td> 244</td>\n",
       "      <td> 107.577236</td>\n",
       "      <td>-150</td>\n",
       "      <td>-15.528455</td>\n",
       "    </tr>\n",
       "    <tr>\n",
       "      <th>1892-04-11</th>\n",
       "      <td> 0</td>\n",
       "      <td>  89</td>\n",
       "      <td>  -6</td>\n",
       "      <td> 11</td>\n",
       "      <td> 4</td>\n",
       "      <td> 239</td>\n",
       "      <td> 113.447154</td>\n",
       "      <td>-117</td>\n",
       "      <td>-13.252033</td>\n",
       "    </tr>\n",
       "    <tr>\n",
       "      <th>1892-04-12</th>\n",
       "      <td> 0</td>\n",
       "      <td>  94</td>\n",
       "      <td> -28</td>\n",
       "      <td> 12</td>\n",
       "      <td> 4</td>\n",
       "      <td> 244</td>\n",
       "      <td> 121.804878</td>\n",
       "      <td>-156</td>\n",
       "      <td>-15.674797</td>\n",
       "    </tr>\n",
       "  </tbody>\n",
       "</table>\n",
       "</div>"
      ],
      "text/plain": [
       "            PRCP  TMAX  TMIN  day  month  RECHIGH     AVGHIGH  RECLOW  \\\n",
       "DATE                                                                    \n",
       "1892-04-08     0    78  -150    8      4      239  109.105691    -172   \n",
       "1892-04-09     0   128     6    9      4      250  111.983740    -128   \n",
       "1892-04-10     0   100     6   10      4      244  107.577236    -150   \n",
       "1892-04-11     0    89    -6   11      4      239  113.447154    -117   \n",
       "1892-04-12     0    94   -28   12      4      244  121.804878    -156   \n",
       "\n",
       "               AVGLOW  \n",
       "DATE                   \n",
       "1892-04-08 -22.284553  \n",
       "1892-04-09 -17.008130  \n",
       "1892-04-10 -15.528455  \n",
       "1892-04-11 -13.252033  \n",
       "1892-04-12 -15.674797  "
      ]
     },
     "execution_count": 76,
     "metadata": {},
     "output_type": "execute_result"
    }
   ],
   "source": [
    "# Select columns of interest from full data set\n",
    "df = df[['PRCP','TMAX','TMIN']]\n",
    "df['day'] = df.index.day\n",
    "df['month'] = df.index.month\n",
    "\n",
    "# Calculate record high and add to output_df\n",
    "record_max = df[['TMAX','month','day']].groupby(['month','day']).aggregate([max, np.mean])\n",
    "record_max.columns = ['RECHIGH', 'AVGHIGH']\n",
    "df = pd.merge(df, record_max, left_on=['month','day'], right_index=True, how='left').sort_index()\n",
    "\n",
    "# Calculate record low and add to output_df\n",
    "record_min = df[['TMIN','month','day']].groupby(['month','day']).aggregate([min, np.mean])\n",
    "record_min.columns = ['RECLOW', 'AVGLOW']\n",
    "df = pd.merge(df, record_min, left_on=['month','day'], right_index=True, how='left').sort_index()\n",
    "\n",
    "df.head()"
   ]
  },
  {
   "cell_type": "code",
   "execution_count": 77,
   "metadata": {
    "collapsed": true
   },
   "outputs": [],
   "source": [
    "# Strip df_output to date range of interest\n",
    "\n",
    "df = df.loc[start_date:end_date]"
   ]
  },
  {
   "cell_type": "code",
   "execution_count": 78,
   "metadata": {
    "collapsed": false
   },
   "outputs": [],
   "source": [
    "# Read in snowpack data\n",
    "\n",
    "# Snow water equivalent data since ~1994, snow depth data since 6-20-2002\n",
    "\n",
    "# Snow water equivalent defined here:\n",
    "# http://www.nrcs.usda.gov/wps/portal/nrcs/detail/or/snow/?cid=nrcs142p2_046155\n",
    "\n",
    "dfSnow = pd.read_csv('bracket-creek_11-22-15.csv', index_col='Date',\n",
    "                        parse_dates=True, skiprows=7)\n",
    "dfSnow.rename(columns={'Snow Depth (in)':'SNWDEP'}, inplace=True)\n",
    "\n",
    "# Select only SNWDEP column, remove nulls\n",
    "dfSnow = pd.DataFrame(dfSnow['SNWDEP'])\n",
    "dfSnow = dfSnow[dfSnow['SNWDEP'].notnull()]"
   ]
  },
  {
   "cell_type": "code",
   "execution_count": 79,
   "metadata": {
    "collapsed": false
   },
   "outputs": [
    {
     "data": {
      "text/html": [
       "<div style=\"max-height:1000px;max-width:1500px;overflow:auto;\">\n",
       "<table border=\"1\" class=\"dataframe\">\n",
       "  <thead>\n",
       "    <tr style=\"text-align: right;\">\n",
       "      <th></th>\n",
       "      <th>PRCP</th>\n",
       "      <th>TMAX</th>\n",
       "      <th>TMIN</th>\n",
       "      <th>day</th>\n",
       "      <th>month</th>\n",
       "      <th>RECHIGH</th>\n",
       "      <th>AVGHIGH</th>\n",
       "      <th>RECLOW</th>\n",
       "      <th>AVGLOW</th>\n",
       "    </tr>\n",
       "    <tr>\n",
       "      <th>DATE</th>\n",
       "      <th></th>\n",
       "      <th></th>\n",
       "      <th></th>\n",
       "      <th></th>\n",
       "      <th></th>\n",
       "      <th></th>\n",
       "      <th></th>\n",
       "      <th></th>\n",
       "      <th></th>\n",
       "    </tr>\n",
       "  </thead>\n",
       "  <tbody>\n",
       "    <tr>\n",
       "      <th>2015-01-01</th>\n",
       "      <td>  0</td>\n",
       "      <td> -94</td>\n",
       "      <td>-206</td>\n",
       "      <td> 1</td>\n",
       "      <td> 1</td>\n",
       "      <td> 139</td>\n",
       "      <td>-16.925620</td>\n",
       "      <td>-333</td>\n",
       "      <td>-120.793388</td>\n",
       "    </tr>\n",
       "    <tr>\n",
       "      <th>2015-01-02</th>\n",
       "      <td>  0</td>\n",
       "      <td> -39</td>\n",
       "      <td>-172</td>\n",
       "      <td> 2</td>\n",
       "      <td> 1</td>\n",
       "      <td> 117</td>\n",
       "      <td> -6.809917</td>\n",
       "      <td>-311</td>\n",
       "      <td>-120.355372</td>\n",
       "    </tr>\n",
       "    <tr>\n",
       "      <th>2015-01-03</th>\n",
       "      <td> 51</td>\n",
       "      <td> -28</td>\n",
       "      <td>-150</td>\n",
       "      <td> 3</td>\n",
       "      <td> 1</td>\n",
       "      <td> 117</td>\n",
       "      <td> -5.454545</td>\n",
       "      <td>-311</td>\n",
       "      <td>-114.727273</td>\n",
       "    </tr>\n",
       "    <tr>\n",
       "      <th>2015-01-04</th>\n",
       "      <td> 10</td>\n",
       "      <td>-128</td>\n",
       "      <td>-172</td>\n",
       "      <td> 4</td>\n",
       "      <td> 1</td>\n",
       "      <td> 111</td>\n",
       "      <td> -4.123967</td>\n",
       "      <td>-317</td>\n",
       "      <td>-113.933884</td>\n",
       "    </tr>\n",
       "    <tr>\n",
       "      <th>2015-01-05</th>\n",
       "      <td>  8</td>\n",
       "      <td>  44</td>\n",
       "      <td>-156</td>\n",
       "      <td> 5</td>\n",
       "      <td> 1</td>\n",
       "      <td> 106</td>\n",
       "      <td> -0.429752</td>\n",
       "      <td>-339</td>\n",
       "      <td>-111.041322</td>\n",
       "    </tr>\n",
       "  </tbody>\n",
       "</table>\n",
       "</div>"
      ],
      "text/plain": [
       "            PRCP  TMAX  TMIN  day  month  RECHIGH    AVGHIGH  RECLOW  \\\n",
       "DATE                                                                   \n",
       "2015-01-01     0   -94  -206    1      1      139 -16.925620    -333   \n",
       "2015-01-02     0   -39  -172    2      1      117  -6.809917    -311   \n",
       "2015-01-03    51   -28  -150    3      1      117  -5.454545    -311   \n",
       "2015-01-04    10  -128  -172    4      1      111  -4.123967    -317   \n",
       "2015-01-05     8    44  -156    5      1      106  -0.429752    -339   \n",
       "\n",
       "                AVGLOW  \n",
       "DATE                    \n",
       "2015-01-01 -120.793388  \n",
       "2015-01-02 -120.355372  \n",
       "2015-01-03 -114.727273  \n",
       "2015-01-04 -113.933884  \n",
       "2015-01-05 -111.041322  "
      ]
     },
     "execution_count": 79,
     "metadata": {},
     "output_type": "execute_result"
    }
   ],
   "source": [
    "df.head()"
   ]
  },
  {
   "cell_type": "code",
   "execution_count": 80,
   "metadata": {
    "collapsed": false
   },
   "outputs": [],
   "source": [
    "# Add SNWDEP column to df\n",
    "\n",
    "df = pd.merge(df, dfSnow, right_index=True, left_index=True, how='left').sort_index()"
   ]
  },
  {
   "cell_type": "code",
   "execution_count": 81,
   "metadata": {
    "collapsed": false
   },
   "outputs": [
    {
     "name": "stdout",
     "output_type": "stream",
     "text": [
      "BZN-weather_2015-01-01_2015-06-30.csv\n"
     ]
    }
   ],
   "source": [
    "filename = \"BZN-weather_\" + str(start_date.date()) + \"_\" + str(end_date.date()) + \".csv\"\n",
    "df.to_csv('data-processed/' + filename)\n",
    "print filename"
   ]
  },
  {
   "cell_type": "code",
   "execution_count": null,
   "metadata": {
    "collapsed": true
   },
   "outputs": [],
   "source": []
  }
 ],
 "metadata": {
  "kernelspec": {
   "display_name": "Python 2",
   "language": "python",
   "name": "python2"
  },
  "language_info": {
   "codemirror_mode": {
    "name": "ipython",
    "version": 2
   },
   "file_extension": ".py",
   "mimetype": "text/x-python",
   "name": "python",
   "nbconvert_exporter": "python",
   "pygments_lexer": "ipython2",
   "version": "2.7.10"
  }
 },
 "nbformat": 4,
 "nbformat_minor": 0
}
